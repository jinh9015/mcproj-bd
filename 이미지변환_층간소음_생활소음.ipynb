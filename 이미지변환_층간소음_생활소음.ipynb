{
 "cells": [
  {
   "cell_type": "code",
   "execution_count": 1,
   "id": "e2474b2e",
   "metadata": {},
   "outputs": [
    {
     "name": "stdout",
     "output_type": "stream",
     "text": [
      "Collecting librosa\n",
      "  Downloading librosa-0.10.0.post2-py3-none-any.whl (253 kB)\n",
      "     -------------------------------------- 253.0/253.0 kB 5.2 MB/s eta 0:00:00\n",
      "Collecting audioread>=2.1.9\n",
      "  Downloading audioread-3.0.0.tar.gz (377 kB)\n",
      "     -------------------------------------- 377.0/377.0 kB 5.8 MB/s eta 0:00:00\n",
      "  Preparing metadata (setup.py): started\n",
      "  Preparing metadata (setup.py): finished with status 'done'\n",
      "Requirement already satisfied: scipy>=1.2.0 in c:\\users\\user\\anaconda3\\lib\\site-packages (from librosa) (1.10.0)\n",
      "Requirement already satisfied: numba>=0.51.0 in c:\\users\\user\\anaconda3\\lib\\site-packages (from librosa) (0.56.4)\n",
      "Collecting lazy-loader>=0.1\n",
      "  Downloading lazy_loader-0.2-py3-none-any.whl (8.6 kB)\n",
      "Requirement already satisfied: msgpack>=1.0 in c:\\users\\user\\anaconda3\\lib\\site-packages (from librosa) (1.0.3)\n",
      "Requirement already satisfied: scikit-learn>=0.20.0 in c:\\users\\user\\anaconda3\\lib\\site-packages (from librosa) (1.2.1)\n",
      "Collecting soxr>=0.3.2\n",
      "  Downloading soxr-0.3.5-cp310-cp310-win_amd64.whl (184 kB)\n",
      "     ------------------------------------- 184.0/184.0 kB 10.9 MB/s eta 0:00:00\n",
      "Requirement already satisfied: typing-extensions>=4.1.1 in c:\\users\\user\\anaconda3\\lib\\site-packages (from librosa) (4.4.0)\n",
      "Collecting soundfile>=0.12.1\n",
      "  Downloading soundfile-0.12.1-py2.py3-none-win_amd64.whl (1.0 MB)\n",
      "     ---------------------------------------- 1.0/1.0 MB 10.7 MB/s eta 0:00:00\n",
      "Requirement already satisfied: pooch<1.7,>=1.0 in c:\\users\\user\\anaconda3\\lib\\site-packages (from librosa) (1.4.0)\n",
      "Requirement already satisfied: joblib>=0.14 in c:\\users\\user\\anaconda3\\lib\\site-packages (from librosa) (1.1.1)\n",
      "Requirement already satisfied: numpy!=1.22.0,!=1.22.1,!=1.22.2,>=1.20.3 in c:\\users\\user\\anaconda3\\lib\\site-packages (from librosa) (1.23.5)\n",
      "Requirement already satisfied: decorator>=4.3.0 in c:\\users\\user\\anaconda3\\lib\\site-packages (from librosa) (5.1.1)\n",
      "Requirement already satisfied: llvmlite<0.40,>=0.39.0dev0 in c:\\users\\user\\anaconda3\\lib\\site-packages (from numba>=0.51.0->librosa) (0.39.1)\n",
      "Requirement already satisfied: setuptools in c:\\users\\user\\anaconda3\\lib\\site-packages (from numba>=0.51.0->librosa) (65.6.3)\n",
      "Requirement already satisfied: requests in c:\\users\\user\\anaconda3\\lib\\site-packages (from pooch<1.7,>=1.0->librosa) (2.28.1)\n",
      "Requirement already satisfied: appdirs in c:\\users\\user\\anaconda3\\lib\\site-packages (from pooch<1.7,>=1.0->librosa) (1.4.4)\n",
      "Requirement already satisfied: packaging in c:\\users\\user\\anaconda3\\lib\\site-packages (from pooch<1.7,>=1.0->librosa) (22.0)\n",
      "Requirement already satisfied: threadpoolctl>=2.0.0 in c:\\users\\user\\anaconda3\\lib\\site-packages (from scikit-learn>=0.20.0->librosa) (2.2.0)\n",
      "Requirement already satisfied: cffi>=1.0 in c:\\users\\user\\anaconda3\\lib\\site-packages (from soundfile>=0.12.1->librosa) (1.15.1)\n",
      "Requirement already satisfied: pycparser in c:\\users\\user\\anaconda3\\lib\\site-packages (from cffi>=1.0->soundfile>=0.12.1->librosa) (2.21)\n",
      "Requirement already satisfied: certifi>=2017.4.17 in c:\\users\\user\\anaconda3\\lib\\site-packages (from requests->pooch<1.7,>=1.0->librosa) (2022.12.7)\n",
      "Requirement already satisfied: charset-normalizer<3,>=2 in c:\\users\\user\\anaconda3\\lib\\site-packages (from requests->pooch<1.7,>=1.0->librosa) (2.0.4)\n",
      "Requirement already satisfied: urllib3<1.27,>=1.21.1 in c:\\users\\user\\anaconda3\\lib\\site-packages (from requests->pooch<1.7,>=1.0->librosa) (1.26.14)\n",
      "Requirement already satisfied: idna<4,>=2.5 in c:\\users\\user\\anaconda3\\lib\\site-packages (from requests->pooch<1.7,>=1.0->librosa) (3.4)\n",
      "Building wheels for collected packages: audioread\n",
      "  Building wheel for audioread (setup.py): started\n",
      "  Building wheel for audioread (setup.py): finished with status 'done'\n",
      "  Created wheel for audioread: filename=audioread-3.0.0-py3-none-any.whl size=23736 sha256=874b237d7a9dbcf9d096c3eb16d2167029b84ca8c2627c19def5fff55f3686b6\n",
      "  Stored in directory: c:\\users\\user\\appdata\\local\\pip\\cache\\wheels\\3d\\e0\\4b\\51b8aa4a0e2b6361c14943f7a7c2c7adb7b9cd419e0a1b720d\n",
      "Successfully built audioread\n",
      "Installing collected packages: soxr, lazy-loader, audioread, soundfile, librosa\n",
      "Successfully installed audioread-3.0.0 lazy-loader-0.2 librosa-0.10.0.post2 soundfile-0.12.1 soxr-0.3.5\n",
      "Note: you may need to restart the kernel to use updated packages.\n"
     ]
    }
   ],
   "source": [
    "pip install librosa"
   ]
  },
  {
   "cell_type": "code",
   "execution_count": 12,
   "id": "c0fca374",
   "metadata": {},
   "outputs": [],
   "source": [
    "# 오디오 이미지 처리\n",
    "import matplotlib.pyplot as plt\n",
    "import numpy as np\n",
    "import librosa\n",
    "import librosa.display\n",
    "import os"
   ]
  },
  {
   "cell_type": "markdown",
   "id": "fc6eb14c",
   "metadata": {},
   "source": [
    "# 화장실 물내리는 소리"
   ]
  },
  {
   "cell_type": "code",
   "execution_count": 19,
   "id": "b9d94e44",
   "metadata": {},
   "outputs": [],
   "source": [
    "root = \"C:/Users/USER/Downloads/293.생활환경소음 AI학습용 데이터 및 민원 관리 서비스 구축 사업/01.데이터/Training/01.원천데이터/TS_A.층간소음_3.생활소음_a.화장실물내리는소리\"\n",
    "file_list = os.listdir(root)\n",
    "file_name=[]\n",
    "for name in file_list:\n",
    "    file_name.append(name)"
   ]
  },
  {
   "cell_type": "code",
   "execution_count": 24,
   "id": "a3b6fee8",
   "metadata": {},
   "outputs": [],
   "source": [
    "for name in file_name:\n",
    "    if name.endswith(\".wav\"):\n",
    "        y, sr = librosa.load(f'C:/Users/USER/Downloads/293.생활환경소음 AI학습용 데이터 및 민원 관리 서비스 구축 사업/01.데이터/Training/01.원천데이터/TS_A.층간소음_3.생활소음_a.화장실물내리는소리/{name}') # 파일명\n",
    "        S = librosa.feature.melspectrogram(y=y, sr=sr)\n",
    "        fig, ax = plt.subplots()\n",
    "        S_dB = librosa.power_to_db(S, ref=np.max)\n",
    "        img = librosa.display.specshow(S_dB, y_axis='mel', x_axis='time', sr=sr,ax=ax)\n",
    "        fig.colorbar(img, ax=ax, format='%+2.0f dB')\n",
    "        ax.set(title = 'Mel-frequency spectrogram')\n",
    "        name, ext = os.path.splitext(name)\n",
    "        plt.savefig(f'화장실물내리는소리/{name}.png')\n",
    "        plt.close()"
   ]
  },
  {
   "cell_type": "markdown",
   "id": "065763ae",
   "metadata": {},
   "source": [
    "# 샤워할때 물소리"
   ]
  },
  {
   "cell_type": "code",
   "execution_count": 25,
   "id": "2454df8e",
   "metadata": {},
   "outputs": [],
   "source": [
    "root = \"C:/Users/USER/Downloads/293.생활환경소음 AI학습용 데이터 및 민원 관리 서비스 구축 사업/01.데이터/Training/01.원천데이터/TS_A.층간소음_3.생활소음_b.샤워할때물소리\"\n",
    "file_list = os.listdir(root)\n",
    "file_name=[]\n",
    "for name in file_list:\n",
    "    file_name.append(name)"
   ]
  },
  {
   "cell_type": "code",
   "execution_count": 26,
   "id": "bcc51350",
   "metadata": {},
   "outputs": [],
   "source": [
    "for name in file_name:\n",
    "    if name.endswith(\".wav\"):\n",
    "        y, sr = librosa.load(f'C:/Users/USER/Downloads/293.생활환경소음 AI학습용 데이터 및 민원 관리 서비스 구축 사업/01.데이터/Training/01.원천데이터/TS_A.층간소음_3.생활소음_b.샤워할때물소리/{name}') # 파일명\n",
    "        S = librosa.feature.melspectrogram(y=y, sr=sr)\n",
    "        fig, ax = plt.subplots()\n",
    "        S_dB = librosa.power_to_db(S, ref=np.max)\n",
    "        img = librosa.display.specshow(S_dB, y_axis='mel', x_axis='time', sr=sr,ax=ax)\n",
    "        fig.colorbar(img, ax=ax, format='%+2.0f dB')\n",
    "        ax.set(title = 'Mel-frequency spectrogram')\n",
    "        name, ext = os.path.splitext(name)\n",
    "        plt.savefig(f'샤워할때물소리/{name}.png')\n",
    "        plt.close()"
   ]
  },
  {
   "cell_type": "markdown",
   "id": "c67935b2",
   "metadata": {},
   "source": [
    "# 드럼세탁기소리"
   ]
  },
  {
   "cell_type": "code",
   "execution_count": 27,
   "id": "72054900",
   "metadata": {},
   "outputs": [],
   "source": [
    "root = \"C:/Users/USER/Downloads/293.생활환경소음 AI학습용 데이터 및 민원 관리 서비스 구축 사업/01.데이터/Training/01.원천데이터/TS_A.층간소음_3.생활소음_c.드럼세탁기소리\"\n",
    "file_list = os.listdir(root)\n",
    "file_name=[]\n",
    "for name in file_list:\n",
    "    file_name.append(name)"
   ]
  },
  {
   "cell_type": "code",
   "execution_count": 28,
   "id": "73236df5",
   "metadata": {},
   "outputs": [],
   "source": [
    "for name in file_name:\n",
    "    if name.endswith(\".wav\"):\n",
    "        y, sr = librosa.load(f'C:/Users/USER/Downloads/293.생활환경소음 AI학습용 데이터 및 민원 관리 서비스 구축 사업/01.데이터/Training/01.원천데이터/TS_A.층간소음_3.생활소음_c.드럼세탁기소리/{name}') # 파일명\n",
    "        S = librosa.feature.melspectrogram(y=y, sr=sr)\n",
    "        fig, ax = plt.subplots()\n",
    "        S_dB = librosa.power_to_db(S, ref=np.max)\n",
    "        img = librosa.display.specshow(S_dB, y_axis='mel', x_axis='time', sr=sr,ax=ax)\n",
    "        fig.colorbar(img, ax=ax, format='%+2.0f dB')\n",
    "        ax.set(title = 'Mel-frequency spectrogram')\n",
    "        name, ext = os.path.splitext(name)\n",
    "        plt.savefig(f'드럼세탁기소리/{name}.png')\n",
    "        plt.close()"
   ]
  },
  {
   "cell_type": "markdown",
   "id": "11126e93",
   "metadata": {},
   "source": [
    "# 통돌이세탁기소리"
   ]
  },
  {
   "cell_type": "code",
   "execution_count": 29,
   "id": "066fb871",
   "metadata": {},
   "outputs": [],
   "source": [
    "root = \"C:/Users/USER/Downloads/293.생활환경소음 AI학습용 데이터 및 민원 관리 서비스 구축 사업/01.데이터/Training/01.원천데이터/TS_A.층간소음_3.생활소음_d.통돌이세탁기소리\"\n",
    "file_list = os.listdir(root)\n",
    "file_name=[]\n",
    "for name in file_list:\n",
    "    file_name.append(name)"
   ]
  },
  {
   "cell_type": "code",
   "execution_count": 30,
   "id": "c69e5fbc",
   "metadata": {},
   "outputs": [],
   "source": [
    "for name in file_name:\n",
    "    if name.endswith(\".wav\"):\n",
    "        y, sr = librosa.load(f'C:/Users/USER/Downloads/293.생활환경소음 AI학습용 데이터 및 민원 관리 서비스 구축 사업/01.데이터/Training/01.원천데이터/TS_A.층간소음_3.생활소음_d.통돌이세탁기소리/{name}') # 파일명\n",
    "        S = librosa.feature.melspectrogram(y=y, sr=sr)\n",
    "        fig, ax = plt.subplots()\n",
    "        S_dB = librosa.power_to_db(S, ref=np.max)\n",
    "        img = librosa.display.specshow(S_dB, y_axis='mel', x_axis='time', sr=sr,ax=ax)\n",
    "        fig.colorbar(img, ax=ax, format='%+2.0f dB')\n",
    "        ax.set(title = 'Mel-frequency spectrogram')\n",
    "        name, ext = os.path.splitext(name)\n",
    "        plt.savefig(f'통돌이세탁기소리/{name}.png')\n",
    "        plt.close()"
   ]
  },
  {
   "cell_type": "markdown",
   "id": "86e781dd",
   "metadata": {},
   "source": [
    "# 진공청소기소리"
   ]
  },
  {
   "cell_type": "code",
   "execution_count": 31,
   "id": "81704517",
   "metadata": {},
   "outputs": [],
   "source": [
    "root = \"C:/Users/USER/Downloads/293.생활환경소음 AI학습용 데이터 및 민원 관리 서비스 구축 사업/01.데이터/Training/01.원천데이터/TS_A.층간소음_3.생활소음_e.진공청소기소리\"\n",
    "file_list = os.listdir(root)\n",
    "file_name=[]\n",
    "for name in file_list:\n",
    "    file_name.append(name)"
   ]
  },
  {
   "cell_type": "code",
   "execution_count": 32,
   "id": "52c8a602",
   "metadata": {},
   "outputs": [],
   "source": [
    "for name in file_name:\n",
    "    if name.endswith(\".wav\"):\n",
    "        y, sr = librosa.load(f'C:/Users/USER/Downloads/293.생활환경소음 AI학습용 데이터 및 민원 관리 서비스 구축 사업/01.데이터/Training/01.원천데이터/TS_A.층간소음_3.생활소음_e.진공청소기소리/{name}') # 파일명\n",
    "        S = librosa.feature.melspectrogram(y=y, sr=sr)\n",
    "        fig, ax = plt.subplots()\n",
    "        S_dB = librosa.power_to_db(S, ref=np.max)\n",
    "        img = librosa.display.specshow(S_dB, y_axis='mel', x_axis='time', sr=sr,ax=ax)\n",
    "        fig.colorbar(img, ax=ax, format='%+2.0f dB')\n",
    "        ax.set(title = 'Mel-frequency spectrogram')\n",
    "        name, ext = os.path.splitext(name)\n",
    "        plt.savefig(f'진공청소기소리/{name}.png')\n",
    "        plt.close()"
   ]
  },
  {
   "cell_type": "markdown",
   "id": "0676cd91",
   "metadata": {},
   "source": [
    "# 식기세척기소리"
   ]
  },
  {
   "cell_type": "code",
   "execution_count": 33,
   "id": "ed9773ef",
   "metadata": {},
   "outputs": [],
   "source": [
    "root = \"C:/Users/USER/Downloads/293.생활환경소음 AI학습용 데이터 및 민원 관리 서비스 구축 사업/01.데이터/Training/01.원천데이터/TS_A.층간소음_3.생활소음_f.식기세척기소리\"\n",
    "file_list = os.listdir(root)\n",
    "file_name=[]\n",
    "for name in file_list:\n",
    "    file_name.append(name)"
   ]
  },
  {
   "cell_type": "code",
   "execution_count": 34,
   "id": "5aad686f",
   "metadata": {},
   "outputs": [],
   "source": [
    "for name in file_name:\n",
    "    if name.endswith(\".wav\"):\n",
    "        y, sr = librosa.load(f'C:/Users/USER/Downloads/293.생활환경소음 AI학습용 데이터 및 민원 관리 서비스 구축 사업/01.데이터/Training/01.원천데이터/TS_A.층간소음_3.생활소음_f.식기세척기소리/{name}') # 파일명\n",
    "        S = librosa.feature.melspectrogram(y=y, sr=sr)\n",
    "        fig, ax = plt.subplots()\n",
    "        S_dB = librosa.power_to_db(S, ref=np.max)\n",
    "        img = librosa.display.specshow(S_dB, y_axis='mel', x_axis='time', sr=sr,ax=ax)\n",
    "        fig.colorbar(img, ax=ax, format='%+2.0f dB')\n",
    "        ax.set(title = 'Mel-frequency spectrogram')\n",
    "        name, ext = os.path.splitext(name)\n",
    "        plt.savefig(f'식기세척기소리/{name}.png')\n",
    "        plt.close()"
   ]
  },
  {
   "cell_type": "code",
   "execution_count": null,
   "id": "d70c3f6f",
   "metadata": {},
   "outputs": [],
   "source": []
  }
 ],
 "metadata": {
  "kernelspec": {
   "display_name": "Python 3 (ipykernel)",
   "language": "python",
   "name": "python3"
  },
  "language_info": {
   "codemirror_mode": {
    "name": "ipython",
    "version": 3
   },
   "file_extension": ".py",
   "mimetype": "text/x-python",
   "name": "python",
   "nbconvert_exporter": "python",
   "pygments_lexer": "ipython3",
   "version": "3.10.9"
  }
 },
 "nbformat": 4,
 "nbformat_minor": 5
}
